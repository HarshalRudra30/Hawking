{
  "cells": [
    {
      "cell_type": "code",
      "execution_count": null,
      "metadata": {
        "id": "5meSD7HeiPD9"
      },
      "outputs": [],
      "source": [
        "!pip install pytorch-tabnet\n",
        "import pandas as pd\n",
        "import numpy as np\n",
        "from collections import Counter\n",
        "import torch\n",
        "from sklearn.model_selection import train_test_split\n",
        "from sklearn.preprocessing import LabelEncoder\n",
        "from sklearn.metrics import roc_auc_score\n",
        "from pytorch_tabnet.tab_model import TabNetClassifier\n",
        "from sklearn.preprocessing import StandardScaler\n",
        "from pytorch_tabnet.pretraining import TabNetPretrainer\n",
        "\n",
        "from matplotlib import pyplot as plt\n",
        "%matplotlib inline"
      ]
    },
    {
      "cell_type": "code",
      "execution_count": 7,
      "metadata": {
        "id": "Lq8uyTAsi2LC"
      },
      "outputs": [],
      "source": [
        "data_df = pd.read_csv('neo.csv')"
      ]
    },
    {
      "cell_type": "code",
      "execution_count": null,
      "metadata": {
        "id": "MUWLnow4i-Li"
      },
      "outputs": [],
      "source": [
        "useless = ['id','name','orbiting_body']\n",
        "data_df = data_df.drop(useless,axis=1)\n",
        "data_df"
      ]
    },
    {
      "cell_type": "code",
      "execution_count": null,
      "metadata": {
        "id": "UA-CVVDujH5x"
      },
      "outputs": [],
      "source": [
        "cat_cols = ['sentry_object','hazardous']\n",
        "data_df[cat_cols] = data_df[cat_cols].astype(int)\n",
        "data_df"
      ]
    },
    {
      "cell_type": "code",
      "execution_count": null,
      "metadata": {
        "id": "A0SFrTBKjgZq"
      },
      "outputs": [],
      "source": [
        "lencoder = LabelEncoder()\n",
        "y = pd.DataFrame(lencoder.fit_transform(data_df['hazardous']), columns=['hazardous'])\n",
        "y = y.to_numpy()\n",
        "y"
      ]
    },
    {
      "cell_type": "code",
      "execution_count": 12,
      "metadata": {
        "colab": {
          "base_uri": "https://localhost:8080/",
          "height": 424
        },
        "id": "VuDCVn4AjvAy",
        "outputId": "164861d3-8c6f-4481-b09e-25b7820909ee"
      },
      "outputs": [
        {
          "data": {
            "text/html": [
              "\n",
              "  <div id=\"df-d8e85bb3-e872-486b-9fbf-2a686ab0ae31\">\n",
              "    <div class=\"colab-df-container\">\n",
              "      <div>\n",
              "<style scoped>\n",
              "    .dataframe tbody tr th:only-of-type {\n",
              "        vertical-align: middle;\n",
              "    }\n",
              "\n",
              "    .dataframe tbody tr th {\n",
              "        vertical-align: top;\n",
              "    }\n",
              "\n",
              "    .dataframe thead th {\n",
              "        text-align: right;\n",
              "    }\n",
              "</style>\n",
              "<table border=\"1\" class=\"dataframe\">\n",
              "  <thead>\n",
              "    <tr style=\"text-align: right;\">\n",
              "      <th></th>\n",
              "      <th>est_diameter_min</th>\n",
              "      <th>est_diameter_max</th>\n",
              "      <th>relative_velocity</th>\n",
              "      <th>miss_distance</th>\n",
              "      <th>sentry_object</th>\n",
              "      <th>absolute_magnitude</th>\n",
              "    </tr>\n",
              "  </thead>\n",
              "  <tbody>\n",
              "    <tr>\n",
              "      <th>0</th>\n",
              "      <td>1.198271</td>\n",
              "      <td>2.679415</td>\n",
              "      <td>13569.249224</td>\n",
              "      <td>5.483974e+07</td>\n",
              "      <td>0</td>\n",
              "      <td>16.73</td>\n",
              "    </tr>\n",
              "    <tr>\n",
              "      <th>1</th>\n",
              "      <td>0.265800</td>\n",
              "      <td>0.594347</td>\n",
              "      <td>73588.726663</td>\n",
              "      <td>6.143813e+07</td>\n",
              "      <td>0</td>\n",
              "      <td>20.00</td>\n",
              "    </tr>\n",
              "    <tr>\n",
              "      <th>2</th>\n",
              "      <td>0.722030</td>\n",
              "      <td>1.614507</td>\n",
              "      <td>114258.692129</td>\n",
              "      <td>4.979872e+07</td>\n",
              "      <td>0</td>\n",
              "      <td>17.83</td>\n",
              "    </tr>\n",
              "    <tr>\n",
              "      <th>3</th>\n",
              "      <td>0.096506</td>\n",
              "      <td>0.215794</td>\n",
              "      <td>24764.303138</td>\n",
              "      <td>2.543497e+07</td>\n",
              "      <td>0</td>\n",
              "      <td>22.20</td>\n",
              "    </tr>\n",
              "    <tr>\n",
              "      <th>4</th>\n",
              "      <td>0.255009</td>\n",
              "      <td>0.570217</td>\n",
              "      <td>42737.733765</td>\n",
              "      <td>4.627557e+07</td>\n",
              "      <td>0</td>\n",
              "      <td>20.09</td>\n",
              "    </tr>\n",
              "    <tr>\n",
              "      <th>...</th>\n",
              "      <td>...</td>\n",
              "      <td>...</td>\n",
              "      <td>...</td>\n",
              "      <td>...</td>\n",
              "      <td>...</td>\n",
              "      <td>...</td>\n",
              "    </tr>\n",
              "    <tr>\n",
              "      <th>90831</th>\n",
              "      <td>0.026580</td>\n",
              "      <td>0.059435</td>\n",
              "      <td>52078.886692</td>\n",
              "      <td>1.230039e+07</td>\n",
              "      <td>0</td>\n",
              "      <td>25.00</td>\n",
              "    </tr>\n",
              "    <tr>\n",
              "      <th>90832</th>\n",
              "      <td>0.016771</td>\n",
              "      <td>0.037501</td>\n",
              "      <td>46114.605073</td>\n",
              "      <td>5.432121e+07</td>\n",
              "      <td>0</td>\n",
              "      <td>26.00</td>\n",
              "    </tr>\n",
              "    <tr>\n",
              "      <th>90833</th>\n",
              "      <td>0.031956</td>\n",
              "      <td>0.071456</td>\n",
              "      <td>7566.807732</td>\n",
              "      <td>2.840077e+07</td>\n",
              "      <td>0</td>\n",
              "      <td>24.60</td>\n",
              "    </tr>\n",
              "    <tr>\n",
              "      <th>90834</th>\n",
              "      <td>0.007321</td>\n",
              "      <td>0.016370</td>\n",
              "      <td>69199.154484</td>\n",
              "      <td>6.869206e+07</td>\n",
              "      <td>0</td>\n",
              "      <td>27.80</td>\n",
              "    </tr>\n",
              "    <tr>\n",
              "      <th>90835</th>\n",
              "      <td>0.039862</td>\n",
              "      <td>0.089133</td>\n",
              "      <td>27024.455553</td>\n",
              "      <td>5.977213e+07</td>\n",
              "      <td>0</td>\n",
              "      <td>24.12</td>\n",
              "    </tr>\n",
              "  </tbody>\n",
              "</table>\n",
              "<p>90836 rows × 6 columns</p>\n",
              "</div>\n",
              "      <button class=\"colab-df-convert\" onclick=\"convertToInteractive('df-d8e85bb3-e872-486b-9fbf-2a686ab0ae31')\"\n",
              "              title=\"Convert this dataframe to an interactive table.\"\n",
              "              style=\"display:none;\">\n",
              "        \n",
              "  <svg xmlns=\"http://www.w3.org/2000/svg\" height=\"24px\"viewBox=\"0 0 24 24\"\n",
              "       width=\"24px\">\n",
              "    <path d=\"M0 0h24v24H0V0z\" fill=\"none\"/>\n",
              "    <path d=\"M18.56 5.44l.94 2.06.94-2.06 2.06-.94-2.06-.94-.94-2.06-.94 2.06-2.06.94zm-11 1L8.5 8.5l.94-2.06 2.06-.94-2.06-.94L8.5 2.5l-.94 2.06-2.06.94zm10 10l.94 2.06.94-2.06 2.06-.94-2.06-.94-.94-2.06-.94 2.06-2.06.94z\"/><path d=\"M17.41 7.96l-1.37-1.37c-.4-.4-.92-.59-1.43-.59-.52 0-1.04.2-1.43.59L10.3 9.45l-7.72 7.72c-.78.78-.78 2.05 0 2.83L4 21.41c.39.39.9.59 1.41.59.51 0 1.02-.2 1.41-.59l7.78-7.78 2.81-2.81c.8-.78.8-2.07 0-2.86zM5.41 20L4 18.59l7.72-7.72 1.47 1.35L5.41 20z\"/>\n",
              "  </svg>\n",
              "      </button>\n",
              "      \n",
              "  <style>\n",
              "    .colab-df-container {\n",
              "      display:flex;\n",
              "      flex-wrap:wrap;\n",
              "      gap: 12px;\n",
              "    }\n",
              "\n",
              "    .colab-df-convert {\n",
              "      background-color: #E8F0FE;\n",
              "      border: none;\n",
              "      border-radius: 50%;\n",
              "      cursor: pointer;\n",
              "      display: none;\n",
              "      fill: #1967D2;\n",
              "      height: 32px;\n",
              "      padding: 0 0 0 0;\n",
              "      width: 32px;\n",
              "    }\n",
              "\n",
              "    .colab-df-convert:hover {\n",
              "      background-color: #E2EBFA;\n",
              "      box-shadow: 0px 1px 2px rgba(60, 64, 67, 0.3), 0px 1px 3px 1px rgba(60, 64, 67, 0.15);\n",
              "      fill: #174EA6;\n",
              "    }\n",
              "\n",
              "    [theme=dark] .colab-df-convert {\n",
              "      background-color: #3B4455;\n",
              "      fill: #D2E3FC;\n",
              "    }\n",
              "\n",
              "    [theme=dark] .colab-df-convert:hover {\n",
              "      background-color: #434B5C;\n",
              "      box-shadow: 0px 1px 3px 1px rgba(0, 0, 0, 0.15);\n",
              "      filter: drop-shadow(0px 1px 2px rgba(0, 0, 0, 0.3));\n",
              "      fill: #FFFFFF;\n",
              "    }\n",
              "  </style>\n",
              "\n",
              "      <script>\n",
              "        const buttonEl =\n",
              "          document.querySelector('#df-d8e85bb3-e872-486b-9fbf-2a686ab0ae31 button.colab-df-convert');\n",
              "        buttonEl.style.display =\n",
              "          google.colab.kernel.accessAllowed ? 'block' : 'none';\n",
              "\n",
              "        async function convertToInteractive(key) {\n",
              "          const element = document.querySelector('#df-d8e85bb3-e872-486b-9fbf-2a686ab0ae31');\n",
              "          const dataTable =\n",
              "            await google.colab.kernel.invokeFunction('convertToInteractive',\n",
              "                                                     [key], {});\n",
              "          if (!dataTable) return;\n",
              "\n",
              "          const docLinkHtml = 'Like what you see? Visit the ' +\n",
              "            '<a target=\"_blank\" href=https://colab.research.google.com/notebooks/data_table.ipynb>data table notebook</a>'\n",
              "            + ' to learn more about interactive tables.';\n",
              "          element.innerHTML = '';\n",
              "          dataTable['output_type'] = 'display_data';\n",
              "          await google.colab.output.renderOutput(dataTable, element);\n",
              "          const docLink = document.createElement('div');\n",
              "          docLink.innerHTML = docLinkHtml;\n",
              "          element.appendChild(docLink);\n",
              "        }\n",
              "      </script>\n",
              "    </div>\n",
              "  </div>\n",
              "  "
            ],
            "text/plain": [
              "       est_diameter_min  est_diameter_max  relative_velocity  miss_distance  \\\n",
              "0              1.198271          2.679415       13569.249224   5.483974e+07   \n",
              "1              0.265800          0.594347       73588.726663   6.143813e+07   \n",
              "2              0.722030          1.614507      114258.692129   4.979872e+07   \n",
              "3              0.096506          0.215794       24764.303138   2.543497e+07   \n",
              "4              0.255009          0.570217       42737.733765   4.627557e+07   \n",
              "...                 ...               ...                ...            ...   \n",
              "90831          0.026580          0.059435       52078.886692   1.230039e+07   \n",
              "90832          0.016771          0.037501       46114.605073   5.432121e+07   \n",
              "90833          0.031956          0.071456        7566.807732   2.840077e+07   \n",
              "90834          0.007321          0.016370       69199.154484   6.869206e+07   \n",
              "90835          0.039862          0.089133       27024.455553   5.977213e+07   \n",
              "\n",
              "       sentry_object  absolute_magnitude  \n",
              "0                  0               16.73  \n",
              "1                  0               20.00  \n",
              "2                  0               17.83  \n",
              "3                  0               22.20  \n",
              "4                  0               20.09  \n",
              "...              ...                 ...  \n",
              "90831              0               25.00  \n",
              "90832              0               26.00  \n",
              "90833              0               24.60  \n",
              "90834              0               27.80  \n",
              "90835              0               24.12  \n",
              "\n",
              "[90836 rows x 6 columns]"
            ]
          },
          "execution_count": 12,
          "metadata": {},
          "output_type": "execute_result"
        }
      ],
      "source": [
        "X = pd.DataFrame(data_df.drop(\"hazardous\", axis = 1))\n",
        "X"
      ]
    },
    {
      "cell_type": "code",
      "execution_count": 13,
      "metadata": {
        "id": "QrlAvpvbl3uf"
      },
      "outputs": [],
      "source": [
        "n_samples , n_features = X.shape"
      ]
    },
    {
      "cell_type": "code",
      "execution_count": 14,
      "metadata": {
        "id": "CDY5bhRBlO59"
      },
      "outputs": [],
      "source": [
        "X_train, X_test, y_train, y_test = train_test_split(X, y, test_size=0.2, random_state=69)"
      ]
    },
    {
      "cell_type": "code",
      "execution_count": 15,
      "metadata": {
        "id": "w1nndt28mbRH"
      },
      "outputs": [],
      "source": [
        "sc = StandardScaler()\n",
        "X_train = sc.fit_transform(X_train)\n",
        "X_test = sc.transform(X_test)"
      ]
    },
    {
      "cell_type": "code",
      "execution_count": 16,
      "metadata": {
        "colab": {
          "base_uri": "https://localhost:8080/"
        },
        "id": "ZsWdX8akxoqU",
        "outputId": "a299bf79-2fc7-41c4-c6e5-3749669bf24c"
      },
      "outputs": [
        {
          "name": "stdout",
          "output_type": "stream",
          "text": [
            "Device used : cpu\n"
          ]
        }
      ],
      "source": [
        "# TabNetPretrainer\n",
        "unsupervised_model = TabNetPretrainer(\n",
        "    optimizer_fn=torch.optim.Adam,\n",
        "    optimizer_params=dict(lr=2e-2),\n",
        "    mask_type='entmax',\n",
        ")"
      ]
    },
    {
      "cell_type": "code",
      "execution_count": 17,
      "metadata": {
        "id": "j_mXpKJayAka"
      },
      "outputs": [],
      "source": [
        "import os\n",
        "max_epochs = 20 if not os.getenv(\"CI\", False) else 2"
      ]
    },
    {
      "cell_type": "code",
      "execution_count": 18,
      "metadata": {
        "colab": {
          "base_uri": "https://localhost:8080/"
        },
        "id": "ftbXvvRkyJmE",
        "outputId": "06293ec6-c043-44d7-f32d-03e73c52bd1a"
      },
      "outputs": [
        {
          "name": "stdout",
          "output_type": "stream",
          "text": [
            "epoch 0  | loss: 12543587.76318| val_0_unsup_loss: 96318.02344|  0:00:04s\n",
            "epoch 1  | loss: 233223.10346| val_0_unsup_loss: 144158.25|  0:00:08s\n",
            "epoch 2  | loss: 125161.21953| val_0_unsup_loss: 64991.92969|  0:00:11s\n",
            "epoch 3  | loss: 86817.67839| val_0_unsup_loss: 70440.13281|  0:00:15s\n",
            "epoch 4  | loss: 69272.38803| val_0_unsup_loss: 38503.15234|  0:00:19s\n",
            "epoch 5  | loss: 55371.6125| val_0_unsup_loss: 44683.96484|  0:00:23s\n",
            "epoch 6  | loss: 50808.17507| val_0_unsup_loss: 18726.95703|  0:00:27s\n",
            "epoch 7  | loss: 43053.10984| val_0_unsup_loss: 33225.86719|  0:00:31s\n",
            "epoch 8  | loss: 41856.70332| val_0_unsup_loss: 18264.55664|  0:00:35s\n",
            "epoch 9  | loss: 32090.00062| val_0_unsup_loss: 30265.56055|  0:00:38s\n",
            "epoch 10 | loss: 29986.45319| val_0_unsup_loss: 43821.43359|  0:00:42s\n",
            "epoch 11 | loss: 48308.87714| val_0_unsup_loss: 36138.57031|  0:00:46s\n",
            "epoch 12 | loss: 44975.6021| val_0_unsup_loss: 21785.1582|  0:00:50s\n",
            "epoch 13 | loss: 25001.36306| val_0_unsup_loss: 3817.89697|  0:00:54s\n",
            "epoch 14 | loss: 20876.31388| val_0_unsup_loss: 5707.25928|  0:00:58s\n",
            "epoch 15 | loss: 17660.96509| val_0_unsup_loss: 10580.45605|  0:01:02s\n",
            "epoch 16 | loss: 18475.06679| val_0_unsup_loss: 793.52753|  0:01:06s\n",
            "epoch 17 | loss: 15427.92415| val_0_unsup_loss: 293.42349|  0:01:10s\n",
            "epoch 18 | loss: 13949.59851| val_0_unsup_loss: 2437.68433|  0:01:14s\n",
            "epoch 19 | loss: 13414.06297| val_0_unsup_loss: 1582.33765|  0:01:19s\n",
            "Stop training because you reached max_epochs = 20 with best_epoch = 17 and best_val_0_unsup_loss = 293.42349\n",
            "Best weights from best epoch are automatically used!\n"
          ]
        }
      ],
      "source": [
        "unsupervised_model.fit(\n",
        "    X_train=X_train,\n",
        "    eval_set=[X_test],\n",
        "    max_epochs=max_epochs , patience=5,\n",
        "    batch_size=1000, virtual_batch_size=128,\n",
        "    num_workers=0,\n",
        "    drop_last=False,\n",
        "    pretraining_ratio=0.8,\n",
        ") "
      ]
    },
    {
      "cell_type": "code",
      "execution_count": 19,
      "metadata": {
        "id": "CAewhGOt1VRL"
      },
      "outputs": [],
      "source": [
        "# Make reconstruction from a dataset\n",
        "reconstructed_X = unsupervised_model.predict(X_test)"
      ]
    },
    {
      "cell_type": "code",
      "execution_count": 20,
      "metadata": {
        "id": "-Ar9ilHX2JlK"
      },
      "outputs": [],
      "source": [
        "unsupervised_explain_matrix, unsupervised_masks = unsupervised_model.explain(X_test)"
      ]
    },
    {
      "cell_type": "code",
      "execution_count": 21,
      "metadata": {
        "colab": {
          "base_uri": "https://localhost:8080/"
        },
        "id": "cJaxOifq2alr",
        "outputId": "f1371495-e415-4456-ed32-eb4bc8393b6e"
      },
      "outputs": [
        {
          "name": "stdout",
          "output_type": "stream",
          "text": [
            "Successfully saved model at ./test_pretrain.zip\n",
            "Device used : cpu\n",
            "Device used : cpu\n"
          ]
        }
      ],
      "source": [
        "unsupervised_model.save_model('./test_pretrain')\n",
        "loaded_pretrain = TabNetPretrainer()\n",
        "loaded_pretrain.load_model('./test_pretrain.zip')"
      ]
    },
    {
      "cell_type": "code",
      "execution_count": 22,
      "metadata": {
        "colab": {
          "base_uri": "https://localhost:8080/"
        },
        "id": "bmjDCzLp0VsI",
        "outputId": "dd662728-9b9e-4fc7-e975-07096eeee7f6"
      },
      "outputs": [
        {
          "name": "stdout",
          "output_type": "stream",
          "text": [
            "Device used : cpu\n"
          ]
        }
      ],
      "source": [
        "clf = TabNetClassifier(optimizer_fn=torch.optim.Adam,\n",
        "                       optimizer_params=dict(lr=2e-2),\n",
        "                       scheduler_params={\"step_size\":10, # how to use learning rate scheduler\n",
        "                                         \"gamma\":0.9},\n",
        "                       scheduler_fn=torch.optim.lr_scheduler.StepLR,\n",
        "                       mask_type='sparsemax' # This will be overwritten if using pretrain model\n",
        "                      )"
      ]
    },
    {
      "cell_type": "code",
      "execution_count": 23,
      "metadata": {
        "colab": {
          "base_uri": "https://localhost:8080/"
        },
        "id": "ZEKsh4k198JI",
        "outputId": "62d0e35c-943a-4e26-997d-6156f539b8b3"
      },
      "outputs": [
        {
          "name": "stdout",
          "output_type": "stream",
          "text": [
            "Device used : cpu\n"
          ]
        }
      ],
      "source": [
        "clf = TabNetClassifier()"
      ]
    },
    {
      "cell_type": "code",
      "execution_count": 24,
      "metadata": {
        "id": "7OAhYXJC-UWp"
      },
      "outputs": [],
      "source": [
        "y_train = np.ravel(y_train)\n",
        "y_test = np.ravel(y_test)"
      ]
    },
    {
      "cell_type": "code",
      "execution_count": 25,
      "metadata": {
        "colab": {
          "base_uri": "https://localhost:8080/"
        },
        "id": "fBh5E9Z50b3X",
        "outputId": "6cac640d-3534-4b61-9561-59c08d368f37"
      },
      "outputs": [
        {
          "name": "stderr",
          "output_type": "stream",
          "text": [
            "/usr/local/lib/python3.7/dist-packages/pytorch_tabnet/abstract_model.py:97: UserWarning: Pretraining: mask_type changed from sparsemax to entmax\n",
            "  warnings.warn(wrn_msg)\n"
          ]
        },
        {
          "name": "stdout",
          "output_type": "stream",
          "text": [
            "Loading weights from unsupervised pretraining\n",
            "epoch 0  | loss: 0.39554 | train_auc: 0.84741 | test_auc: 0.84772 |  0:00:04s\n",
            "epoch 1  | loss: 0.32302 | train_auc: 0.88693 | test_auc: 0.8883  |  0:00:09s\n",
            "epoch 2  | loss: 0.3165  | train_auc: 0.90318 | test_auc: 0.90353 |  0:00:13s\n",
            "epoch 3  | loss: 0.3158  | train_auc: 0.9096  | test_auc: 0.90804 |  0:00:17s\n",
            "epoch 4  | loss: 0.31065 | train_auc: 0.90947 | test_auc: 0.90878 |  0:00:22s\n",
            "epoch 5  | loss: 0.30699 | train_auc: 0.91181 | test_auc: 0.91145 |  0:00:26s\n",
            "epoch 6  | loss: 0.31087 | train_auc: 0.91201 | test_auc: 0.91082 |  0:00:31s\n",
            "epoch 7  | loss: 0.3039  | train_auc: 0.91218 | test_auc: 0.91158 |  0:00:35s\n",
            "epoch 8  | loss: 0.30633 | train_auc: 0.91146 | test_auc: 0.90921 |  0:00:40s\n",
            "epoch 9  | loss: 0.30694 | train_auc: 0.91211 | test_auc: 0.91081 |  0:00:44s\n",
            "epoch 10 | loss: 0.30534 | train_auc: 0.91253 | test_auc: 0.90892 |  0:00:48s\n",
            "epoch 11 | loss: 0.30584 | train_auc: 0.91205 | test_auc: 0.91187 |  0:00:53s\n",
            "epoch 12 | loss: 0.30638 | train_auc: 0.91217 | test_auc: 0.90995 |  0:00:57s\n",
            "epoch 13 | loss: 0.30477 | train_auc: 0.91168 | test_auc: 0.91175 |  0:01:01s\n",
            "epoch 14 | loss: 0.30567 | train_auc: 0.91247 | test_auc: 0.91173 |  0:01:06s\n",
            "epoch 15 | loss: 0.30687 | train_auc: 0.91178 | test_auc: 0.90992 |  0:01:10s\n",
            "epoch 16 | loss: 0.30479 | train_auc: 0.91287 | test_auc: 0.91169 |  0:01:15s\n",
            "epoch 17 | loss: 0.30179 | train_auc: 0.91234 | test_auc: 0.91167 |  0:01:19s\n",
            "epoch 18 | loss: 0.30615 | train_auc: 0.9115  | test_auc: 0.90869 |  0:01:23s\n",
            "epoch 19 | loss: 0.30482 | train_auc: 0.91268 | test_auc: 0.91121 |  0:01:28s\n",
            "Stop training because you reached max_epochs = 20 with best_epoch = 11 and best_test_auc = 0.91187\n",
            "Best weights from best epoch are automatically used!\n"
          ]
        }
      ],
      "source": [
        "clf.fit(\n",
        "    X_train = X_train,\n",
        "    y_train = y_train,\n",
        "    eval_set=[(X_train,y_train),(X_test,y_test)],\n",
        "    eval_name=['train', 'test'],\n",
        "    eval_metric=['auc'],\n",
        "    max_epochs=max_epochs , patience=20,\n",
        "    batch_size=1024, virtual_batch_size=128,\n",
        "    num_workers=0,\n",
        "    weights=1,\n",
        "    drop_last=False,\n",
        "    from_unsupervised=loaded_pretrain\n",
        ")"
      ]
    },
    {
      "cell_type": "code",
      "execution_count": 26,
      "metadata": {
        "id": "F3oj0v_5ybOk"
      },
      "outputs": [],
      "source": [
        "preds_valid = clf.predict_proba(X_test)\n",
        "valid_auc = roc_auc_score(y_score=preds_valid[:,1], y_true=y_test)"
      ]
    },
    {
      "cell_type": "code",
      "execution_count": 27,
      "metadata": {
        "colab": {
          "base_uri": "https://localhost:8080/"
        },
        "id": "WB4Q_CMke80O",
        "outputId": "d49aa336-d0e0-4dfe-f782-147f218feb58"
      },
      "outputs": [
        {
          "data": {
            "text/plain": [
              "91.18653404247158"
            ]
          },
          "execution_count": 27,
          "metadata": {},
          "output_type": "execute_result"
        }
      ],
      "source": [
        "valid_auc*100"
      ]
    }
  ],
  "metadata": {
    "colab": {
      "name": "Untitled2.ipynb",
      "provenance": []
    },
    "gpuClass": "standard",
    "kernelspec": {
      "display_name": "Python 3.10.4 ('DL')",
      "language": "python",
      "name": "python3"
    },
    "language_info": {
      "name": "python",
      "version": "3.10.4"
    },
    "vscode": {
      "interpreter": {
        "hash": "2ca5bb8324977b3de4b8aacaf6796db9a546d1ddd991cb14f1d04a214cdc7c4c"
      }
    }
  },
  "nbformat": 4,
  "nbformat_minor": 0
}
